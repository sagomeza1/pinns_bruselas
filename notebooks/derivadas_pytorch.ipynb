{
 "cells": [
  {
   "cell_type": "code",
   "execution_count": 1,
   "id": "758344bd",
   "metadata": {},
   "outputs": [],
   "source": [
    "import torch"
   ]
  },
  {
   "cell_type": "markdown",
   "id": "68c86926",
   "metadata": {},
   "source": [
    "# Calcular derivada"
   ]
  },
  {
   "cell_type": "code",
   "execution_count": 2,
   "id": "f5b8e1ee",
   "metadata": {},
   "outputs": [],
   "source": [
    "# Definimos una variable con gradiente\n",
    "x = torch.tensor(3.0, requires_grad=True)\n",
    "\n",
    "# Definimos una función escalar\n",
    "y = x**2 + 2*x + 1"
   ]
  },
  {
   "cell_type": "code",
   "execution_count": 3,
   "id": "406f2945",
   "metadata": {},
   "outputs": [
    {
     "name": "stdout",
     "output_type": "stream",
     "text": [
      "tensor(8.)\n"
     ]
    }
   ],
   "source": [
    "y.backward()\n",
    "\n",
    "print(x.grad)  # dy/dx = 2x + 2 = 8"
   ]
  },
  {
   "cell_type": "markdown",
   "id": "75c54473",
   "metadata": {},
   "source": [
    "# Calcular derivadas parciales"
   ]
  },
  {
   "cell_type": "code",
   "execution_count": 4,
   "id": "5e0d66c7",
   "metadata": {},
   "outputs": [
    {
     "name": "stdout",
     "output_type": "stream",
     "text": [
      "tensor(12.)\n",
      "tensor(31.)\n"
     ]
    }
   ],
   "source": [
    "x = torch.tensor(2.0, requires_grad=True)\n",
    "y = torch.tensor(3.0, requires_grad=True)\n",
    "\n",
    "f = x**2 * y + y**3\n",
    "\n",
    "f.backward()\n",
    "\n",
    "print(x.grad)  # ∂f/∂x = 2xy = 2*2*3 = 12\n",
    "print(y.grad)  # ∂f/∂y = x² + 3y² = 4 + 27 = 31\n"
   ]
  },
  {
   "cell_type": "markdown",
   "id": "79f4d494",
   "metadata": {},
   "source": [
    "# grad"
   ]
  },
  {
   "cell_type": "code",
   "execution_count": 29,
   "id": "601d80f3",
   "metadata": {},
   "outputs": [
    {
     "name": "stdout",
     "output_type": "stream",
     "text": [
      "x=tensor([[3., 5., 2.],\n",
      "        [7., 1., 3.]], grad_fn=<CatBackward0>)\n",
      "(tensor([[ 8., 12.,  6.],\n",
      "        [16.,  4.,  8.]]),)\n",
      "(tensor([[30., 50., 20.],\n",
      "        [70., 10., 30.]]),)\n"
     ]
    }
   ],
   "source": [
    "import torch\n",
    "import numpy as np\n",
    "\n",
    "x1 = torch.tensor([[3.0 , 5.0, 2.0]], requires_grad=True)\n",
    "x2 = torch.tensor([[7.0 , 1.0, 3.0]], requires_grad=True)\n",
    "x = torch.concat([x1, x2])\n",
    "print(f\"{x=}\")\n",
    "y1 = x**2 + 2*x\n",
    "y2 = 5*x**2\n",
    "\n",
    "grad_y1_x = torch.autograd.grad(y1, x, grad_outputs=torch.ones_like(y1))\n",
    "grad_y2_x = torch.autograd.grad(y2, x, grad_outputs=torch.ones_like(y2))\n",
    "print(grad_y1_x)  # (tensor(8.),)\n",
    "print(grad_y2_x)  # (tensor(8.),)\n"
   ]
  },
  {
   "cell_type": "code",
   "execution_count": 50,
   "id": "ed53c467",
   "metadata": {},
   "outputs": [
    {
     "name": "stdout",
     "output_type": "stream",
     "text": [
      "tensor([[ 6., 10.],\n",
      "        [30., 34.],\n",
      "        [54., 58.],\n",
      "        [78., 82.]])\n"
     ]
    }
   ],
   "source": [
    "x1 = np.arange(2,50,12)[:,None]\n",
    "x2 = np.arange(4,50,12)[:,None]\n",
    "\n",
    "x1 = torch.from_numpy(x1).to(torch.float32).requires_grad_(True)\n",
    "x2 = torch.from_numpy(x2).to(torch.float32).requires_grad_(True)\n",
    "\n",
    "x = torch.concat([x1, x2], axis=1)\n",
    "\n",
    "y1 = x**2 + 2*x\n",
    "\n",
    "grad_y1_x = torch.autograd.grad(y1, x, grad_outputs=torch.ones_like(y1))\n",
    "print(grad_y1_x[0])  # (tensor(8.),)\n"
   ]
  },
  {
   "cell_type": "code",
   "execution_count": 17,
   "id": "e6981a74",
   "metadata": {},
   "outputs": [
    {
     "name": "stdout",
     "output_type": "stream",
     "text": [
      "x =\n",
      " tensor([[ 1.7383,  2.2778, -1.8181],\n",
      "        [-0.3021, -0.1142,  1.2707]], requires_grad=True)\n",
      "y1 = x^2 + 2x =\n",
      " tensor([[ 6.4984,  9.7438, -0.3308],\n",
      "        [-0.5129, -0.2154,  4.1562]], grad_fn=<AddBackward0>)\n",
      "y2 = 5x =\n",
      " tensor([[ 6.4984,  9.7438, -0.3308],\n",
      "        [-0.5129, -0.2154,  4.1562]], grad_fn=<AddBackward0>)\n",
      "∂y1/∂x =\n",
      " tensor([[ 5.4766,  6.5556, -1.6362],\n",
      "        [ 1.3959,  1.7716,  4.5415]], grad_fn=<AddBackward0>)\n",
      "∂y2/∂x =\n",
      " tensor([[5., 5., 5.],\n",
      "        [5., 5., 5.]])\n"
     ]
    }
   ],
   "source": [
    "import torch\n",
    "\n",
    "x = torch.randn(2, 3, requires_grad=True)  # Tensor 2x3\n",
    "y1 = x**2 + 2*x\n",
    "y2 = 5*x\n",
    "\n",
    "grad_y1_x = torch.autograd.grad(\n",
    "    outputs=y1,\n",
    "    inputs=x,\n",
    "    grad_outputs=torch.ones_like(y1),\n",
    "    create_graph=True\n",
    ")[0]\n",
    "\n",
    "grad_y2_x = torch.autograd.grad(\n",
    "    outputs=y2,\n",
    "    inputs=x,\n",
    "    grad_outputs=torch.ones_like(y2),\n",
    "    create_graph=True\n",
    ")[0]\n",
    "\n",
    "print(\"x =\\n\", x)\n",
    "print(\"y1 = x^2 + 2x =\\n\", y1)\n",
    "print(\"y2 = 5x =\\n\", y1)\n",
    "print(\"∂y1/∂x =\\n\", grad_y1_x)\n",
    "print(\"∂y2/∂x =\\n\", grad_y2_x)\n"
   ]
  }
 ],
 "metadata": {
  "kernelspec": {
   "display_name": "venv",
   "language": "python",
   "name": "python3"
  },
  "language_info": {
   "codemirror_mode": {
    "name": "ipython",
    "version": 3
   },
   "file_extension": ".py",
   "mimetype": "text/x-python",
   "name": "python",
   "nbconvert_exporter": "python",
   "pygments_lexer": "ipython3",
   "version": "3.12.12"
  }
 },
 "nbformat": 4,
 "nbformat_minor": 5
}
