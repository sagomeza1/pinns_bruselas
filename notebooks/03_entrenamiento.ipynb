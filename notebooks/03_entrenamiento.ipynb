{
 "cells": [
  {
   "cell_type": "code",
   "execution_count": 1,
   "id": "90c993fa",
   "metadata": {},
   "outputs": [],
   "source": [
    "\n",
    "import torch\n",
    "from torch.utils.data import Dataset, DataLoader, RandomSampler\n",
    "import scipy.io as sio\n",
    "from pathlib import Path\n",
    "# from torch.nn.utils import weight_norm\n",
    "from torch.nn.utils.parametrizations import weight_norm\n",
    "import torch.nn as nn\n",
    "import torch.nn.functional as F\n",
    "\n",
    "import numpy as np"
   ]
  },
  {
   "cell_type": "code",
   "execution_count": 2,
   "id": "bd2b68ea",
   "metadata": {},
   "outputs": [
    {
     "name": "stdout",
     "output_type": "stream",
     "text": [
      "Python 3.12.3\n"
     ]
    }
   ],
   "source": [
    "! python --version"
   ]
  },
  {
   "cell_type": "code",
   "execution_count": 3,
   "id": "85ef6bf2",
   "metadata": {},
   "outputs": [
    {
     "name": "stdout",
     "output_type": "stream",
     "text": [
      "Usando PyTorch 2.9.0+cu128 | GPU disponible: True\n"
     ]
    }
   ],
   "source": [
    "device = torch.device(\"cuda\" if torch.cuda.is_available() else \"cpu\")\n",
    "print(f\"Usando PyTorch {torch.__version__} | GPU disponible: {torch.cuda.is_available()}\")"
   ]
  },
  {
   "cell_type": "code",
   "execution_count": 4,
   "id": "21d922cd",
   "metadata": {},
   "outputs": [],
   "source": [
    "# (Opcional) ligeras optimizaciones en GPU\n",
    "torch.backends.cudnn.benchmark = True"
   ]
  },
  {
   "cell_type": "markdown",
   "id": "c8b1ce95",
   "metadata": {},
   "source": [
    "# Rutas"
   ]
  },
  {
   "cell_type": "code",
   "execution_count": 5,
   "id": "aa38cd1f",
   "metadata": {},
   "outputs": [],
   "source": [
    "BASE_DIR = Path().resolve().parents[0]\n",
    "DATA_PROC_DIR = BASE_DIR / \"data\" / \"processed\""
   ]
  },
  {
   "cell_type": "markdown",
   "id": "4443c9fa",
   "metadata": {},
   "source": [
    "# Carga de datos"
   ]
  },
  {
   "cell_type": "code",
   "execution_count": 6,
   "id": "476e45b3",
   "metadata": {},
   "outputs": [],
   "source": [
    "path_data = DATA_PROC_DIR / \"weather_data_processed.mat\"\n",
    "WS_data = sio.loadmat(path_data)"
   ]
  },
  {
   "cell_type": "code",
   "execution_count": 7,
   "id": "40a84e77",
   "metadata": {},
   "outputs": [],
   "source": [
    "# Malla PINN\n",
    "X_PINN = WS_data[\"X_PINN\"]\n",
    "Y_PINN = WS_data[\"Y_PINN\"]\n",
    "T_PINN = WS_data[\"T_PINN\"]\n",
    "# Data WS\n",
    "T_WS = WS_data[\"T_WS\"]\n",
    "P_WS = WS_data[\"P_WS\"]\n",
    "U_WS = WS_data[\"U_WS\"]\n",
    "V_WS = WS_data[\"V_WS\"]\n",
    "X_WS = WS_data[\"X_WS\"]\n",
    "Y_WS = WS_data[\"Y_WS\"]\n",
    "# Data val\n",
    "WS_val = WS_data[\"WS_val\"]\n",
    "T_val = WS_data[\"T_val\"]\n",
    "P_val = WS_data[\"P_val\"]\n",
    "U_val = WS_data[\"U_val\"]\n",
    "V_val = WS_data[\"V_val\"]\n",
    "X_val = WS_data[\"X_val\"]\n",
    "Y_val = WS_data[\"Y_val\"]\n",
    "Z_val = WS_data[\"Z_val\"]\n",
    "\n",
    "L = WS_data[\"L\"]\n",
    "W = WS_data[\"W\"]\n",
    "P0 = WS_data[\"P0\"]\n",
    "Re = WS_data[\"Re\"]\n",
    "\n",
    "batch_PINN = WS_data[\"batch_PINN\"][0][0]\n",
    "batch_WS = WS_data[\"batch_WS\"][0][0]"
   ]
  },
  {
   "cell_type": "code",
   "execution_count": 8,
   "id": "77d3bb4d",
   "metadata": {},
   "outputs": [
    {
     "data": {
      "text/plain": [
       "np.int64(4608)"
      ]
     },
     "execution_count": 8,
     "metadata": {},
     "output_type": "execute_result"
    }
   ],
   "source": [
    "batch_PINN#.shape"
   ]
  },
  {
   "cell_type": "markdown",
   "id": "bec9696b",
   "metadata": {},
   "source": [
    "# Utilidades"
   ]
  },
  {
   "cell_type": "code",
   "execution_count": 9,
   "id": "8d427e99",
   "metadata": {},
   "outputs": [
    {
     "name": "stdout",
     "output_type": "stream",
     "text": [
      "device=device(type='cuda')\n"
     ]
    }
   ],
   "source": [
    "device = torch.device('cuda' if torch.cuda.is_available() else 'cpu')\n",
    "print(f\"{device=}\")"
   ]
  },
  {
   "cell_type": "code",
   "execution_count": 10,
   "id": "abbe29f6",
   "metadata": {},
   "outputs": [],
   "source": [
    "# Training\n",
    "num_epochs = 1000 # number of epochs\n",
    "lamb = 2 # Tuning of physics constraints\n",
    "# dtype = np.float64\n",
    "dtype = np.float32"
   ]
  },
  {
   "cell_type": "code",
   "execution_count": 11,
   "id": "8643311d",
   "metadata": {},
   "outputs": [],
   "source": [
    "def count_parameters(model):\n",
    "    return sum(p.numel() for p in model.parameters() if p.requires_grad)"
   ]
  },
  {
   "cell_type": "code",
   "execution_count": 12,
   "id": "3d906c55",
   "metadata": {},
   "outputs": [],
   "source": [
    "def _flatten_grid(T, X, Y, target=None):\n",
    "    \"\"\"\n",
    "    Recibe matrices 2D (N_x by N_t) y devuelve vectores columna aplanados (N_x*N_t, 1).\n",
    "    Aplica máscara de NaN con base en `target` si se provee.\n",
    "    \"\"\"\n",
    "    # Aplanar\n",
    "    t = T.reshape(-1, 1)\n",
    "    x = X.reshape(-1, 1)\n",
    "    y = Y.reshape(-1, 1)\n",
    "    tgt = None if target is None else target.reshape(-1, 1)\n",
    "\n",
    "    # Máscara de NaN según target si existe\n",
    "    if tgt is not None:\n",
    "        mask = ~np.isnan(tgt[:, 0])\n",
    "        t, x, y = t[mask], x[mask], y[mask]\n",
    "        tgt = tgt[mask]\n",
    "    return t, x, y, tgt"
   ]
  },
  {
   "cell_type": "code",
   "execution_count": 13,
   "id": "91a74397",
   "metadata": {},
   "outputs": [],
   "source": [
    "def move_to_device(batch, device):\n",
    "    if isinstance(batch, (list, tuple)):\n",
    "        return [item.to(device, non_blocking=True) for item in batch]\n",
    "    elif isinstance(batch, dict):\n",
    "        return {key: val.to(device, non_blocking=True) for key, val in batch.items()}\n",
    "    else:\n",
    "        return batch.to(device, non_blocking=True)"
   ]
  },
  {
   "cell_type": "markdown",
   "id": "c2be6054",
   "metadata": {},
   "source": [
    "# Datasets"
   ]
  },
  {
   "cell_type": "code",
   "execution_count": 14,
   "id": "72b854ae",
   "metadata": {},
   "outputs": [],
   "source": [
    "class WSDataset(Dataset):\n",
    "    \"\"\"\n",
    "    Dataset para un campo escalar (u, v o p) en las ubicaciones WS (t, x, y [,z]).\n",
    "    Permite barajar con DataLoader + RandomSampler.\n",
    "    \"\"\"\n",
    "    def __init__(self, T_WS, X_WS, Y_WS, target_WS):\n",
    "        t, x, y, tgt = _flatten_grid(T_WS, X_WS, Y_WS, target_WS)\n",
    "        self.t = torch.from_numpy(t.astype(dtype))\n",
    "        self.x = torch.from_numpy(x.astype(dtype))\n",
    "        self.y = torch.from_numpy(y.astype(dtype))\n",
    "        self.target = torch.from_numpy(tgt.astype(dtype))\n",
    "\n",
    "    def __len__(self):\n",
    "        return self.t.shape[0]\n",
    "\n",
    "    def __getitem__(self, idx):\n",
    "        # return torch.concat([self.t[idx], self.x[idx], self.y[idx], self.target[idx]], axis=1)\n",
    "        return self.t[idx], self.x[idx], self.y[idx], self.target[idx]\n"
   ]
  },
  {
   "cell_type": "code",
   "execution_count": 15,
   "id": "20bb1796",
   "metadata": {},
   "outputs": [],
   "source": [
    "class WSEqnRefDataset(Dataset):\n",
    "    \"\"\"\n",
    "    Dataset para (t, x, y) de referencia desde WS (para términos de ecuaciones que usan ref).\n",
    "    \"\"\"\n",
    "    def __init__(self, T_WS, X_WS, Y_WS):\n",
    "        t, x, y, _ = _flatten_grid(T_WS, X_WS, Y_WS)\n",
    "        self.t = torch.from_numpy(t.astype(dtype))\n",
    "        self.x = torch.from_numpy(x.astype(dtype))\n",
    "        self.y = torch.from_numpy(y.astype(dtype))\n",
    "\n",
    "    def __len__(self):\n",
    "        return self.t.shape[0]\n",
    "\n",
    "    def __getitem__(self, idx):\n",
    "        # return torch.concat([self.t[idx], self.x[idx], self.y[idx]], axis=1)\n",
    "        return self.t[idx], self.x[idx], self.y[idx]"
   ]
  },
  {
   "cell_type": "code",
   "execution_count": 16,
   "id": "dd0a7e5b",
   "metadata": {},
   "outputs": [],
   "source": [
    "class PINNEqnDataset(Dataset):\n",
    "    \"\"\"\n",
    "    Dataset de puntos de colación (PINN) provenientes de malla PINN (sin targets).\n",
    "    \"\"\"\n",
    "    def __init__(self, T_PINN, X_PINN, Y_PINN):\n",
    "        t, x, y, _ = _flatten_grid(T_PINN, X_PINN, Y_PINN)\n",
    "        self.t = torch.from_numpy(t.astype(dtype))\n",
    "        self.x = torch.from_numpy(x.astype(dtype))\n",
    "        self.y = torch.from_numpy(y.astype(dtype))\n",
    "        # print(self.t.shape)\n",
    "        # print(self.x.shape)\n",
    "        # print(self.y.shape)\n",
    "        # print(self.t.shape[0])\n",
    "        # print(torch.concat([self.t, self.x, self.y], axis=1))\n",
    "\n",
    "    def __len__(self):\n",
    "        return self.t.shape[0]\n",
    "\n",
    "    def __getitem__(self, idx):\n",
    "        # return torch.concat([self.t[idx,:], self.x[idx,:], self.y[idx,:]], axis=1)\n",
    "        return self.t[idx], self.x[idx], self.y[idx]"
   ]
  },
  {
   "cell_type": "markdown",
   "id": "15b30029",
   "metadata": {},
   "source": [
    "# Preparación de datasets y dataloaders"
   ]
  },
  {
   "cell_type": "code",
   "execution_count": 17,
   "id": "6cc705c0",
   "metadata": {},
   "outputs": [],
   "source": [
    "# Dimensions\n",
    "dim_N_WS = X_WS.shape[0]\n",
    "dim_T_WS = X_WS.shape[1]\n",
    "dim_N_PINN = X_PINN.shape[0]\n",
    "dim_T_PINN = T_PINN.shape[1]"
   ]
  },
  {
   "cell_type": "code",
   "execution_count": 18,
   "id": "3623e854",
   "metadata": {},
   "outputs": [
    {
     "name": "stdout",
     "output_type": "stream",
     "text": [
      "batch_PINN=4608, batch_WS=231\n"
     ]
    }
   ],
   "source": [
    "# Dimensions\n",
    "dim_N_data = dim_N_WS\n",
    "dim_T_data = dim_T_WS\n",
    "dim_T_eqns = dim_T_PINN\n",
    "dim_N_eqns = dim_N_PINN\n",
    "\n",
    "num_samples_WS = int(dim_N_data * dim_T_data)\n",
    "num_samples_PINN = int(dim_N_eqns * dim_T_eqns)\n",
    "\n",
    "batch_PINN = int(batch_PINN)\n",
    "batch_WS = int(batch_WS)\n",
    "\n",
    "print(f\"{batch_PINN=}, {batch_WS=}\")"
   ]
  },
  {
   "cell_type": "code",
   "execution_count": 19,
   "id": "d05228cd",
   "metadata": {},
   "outputs": [],
   "source": [
    "# Conjuntos\n",
    "ds_u = WSDataset(T_WS, X_WS, Y_WS, U_WS)\n",
    "ds_v = WSDataset(T_WS, X_WS, Y_WS, V_WS)\n",
    "ds_p = WSDataset(T_WS, X_WS, Y_WS, P_WS)\n",
    "\n",
    "ds_eqns_ref = WSEqnRefDataset(T_WS, X_WS, Y_WS)\n",
    "ds_eqns = PINNEqnDataset(T_PINN, X_PINN, Y_PINN)"
   ]
  },
  {
   "cell_type": "code",
   "execution_count": 20,
   "id": "975313e7",
   "metadata": {},
   "outputs": [],
   "source": [
    "# Muestreo aleatorio por época\n",
    "sampler_u = RandomSampler(ds_u, replacement=False, num_samples=num_samples_WS)\n",
    "sampler_v = RandomSampler(ds_v, replacement=False, num_samples=num_samples_WS)\n",
    "sampler_p = RandomSampler(ds_p, replacement=False, num_samples=num_samples_WS)\n",
    "sampler_eqns_ref = RandomSampler(ds_eqns_ref, replacement=False, num_samples=num_samples_WS)\n",
    "sampler_eqns = RandomSampler(ds_eqns, replacement=False, num_samples=num_samples_PINN)"
   ]
  },
  {
   "cell_type": "code",
   "execution_count": 21,
   "id": "7ad80d79",
   "metadata": {},
   "outputs": [],
   "source": [
    "# Carga de los dataloaders con el muestreo simple\n",
    "loader_u = DataLoader(ds_u, batch_size=batch_WS, sampler=sampler_u, pin_memory=True)\n",
    "loader_v = DataLoader(ds_v, batch_size=batch_WS, sampler=sampler_v, pin_memory=True)\n",
    "loader_p = DataLoader(ds_p, batch_size=batch_WS, sampler=sampler_p, pin_memory=True)\n",
    "loader_eqns_ref = DataLoader(ds_eqns_ref, batch_size=batch_WS, sampler=sampler_eqns_ref, pin_memory=True)\n",
    "loader_eqns = DataLoader(ds_eqns, batch_size=batch_PINN, sampler=sampler_eqns, pin_memory=True)\n"
   ]
  },
  {
   "cell_type": "code",
   "execution_count": 22,
   "id": "bddfadf3",
   "metadata": {},
   "outputs": [],
   "source": [
    "# # Se cargan los batches a device\n",
    "# for loader in [loader_u,loader_v,loader_p,loader_eqns_ref,loader_eqns,]:\n",
    "#     for batch in loader:\n",
    "#         batch = move_to_device(batch, device)"
   ]
  },
  {
   "cell_type": "markdown",
   "id": "14bf2b65",
   "metadata": {},
   "source": [
    "# Capa personalizada: GammaBiasLayer"
   ]
  },
  {
   "cell_type": "code",
   "execution_count": 23,
   "id": "59dd04c6",
   "metadata": {},
   "outputs": [],
   "source": [
    "class GammaBiasLayer(nn.Module):\n",
    "    \"\"\"\n",
    "    Capa densa personalizada:\n",
    "      y = gamma ⊙ (W_norm x) + bias\n",
    "    - W_norm: Linear (sin bias) con Weight Normalization\n",
    "    - gamma: parámetro de escala por-neurona\n",
    "    - bias: sesgo por-neurona\n",
    "\n",
    "    Args:\n",
    "        in_features  (int): tamaño de entrada\n",
    "        out_features (int): número de unidades (neuronas)\n",
    "    \"\"\"\n",
    "    def __init__(self, in_features: int, out_features: int):\n",
    "        super().__init__()\n",
    "        # Linear sin bias para emular Dense(use_bias=False)\n",
    "        linear = nn.Linear(in_features, out_features, bias=False)\n",
    "        # Inicialización uniforme [-1, 1], como en tu RandomUniform\n",
    "        nn.init.uniform_(linear.weight, a=-1.0, b=1.0)\n",
    "\n",
    "        # Weight Normalization (equivalente a tfa.layers.WeightNormalization)\n",
    "        self.w = weight_norm(linear)  # añade weight_g y weight_v internamente\n",
    "\n",
    "        # Parámetros gamma y bias (forma [out_features])\n",
    "        self.gamma = nn.Parameter(torch.ones(out_features))\n",
    "        self.bias  = nn.Parameter(torch.zeros(out_features))\n",
    "\n",
    "    def forward(self, x: torch.Tensor) -> torch.Tensor:\n",
    "        # x: (batch, in_features) -> out: (batch, out_features)\n",
    "        y = self.w(x)\n",
    "        # Broadcasting de gamma y bias sobre la dimensión batch\n",
    "        return y * self.gamma + self.bias"
   ]
  },
  {
   "cell_type": "markdown",
   "id": "c7455f9c",
   "metadata": {},
   "source": [
    "# PINN"
   ]
  },
  {
   "cell_type": "code",
   "execution_count": 24,
   "id": "fe3fc7d8",
   "metadata": {},
   "outputs": [],
   "source": [
    "# class PINNNet(nn.Module):\n",
    "#     def __init__(self, num_input_variables=3, num_output_variables=3):\n",
    "#         super().__init__()\n",
    "\n",
    "#         neurons = 200 * num_output_variables\n",
    "#         layers_sizes = (\n",
    "#             [num_input_variables]\n",
    "#             + (2 * (num_input_variables + num_output_variables)) * [neurons]\n",
    "#             + [num_output_variables]\n",
    "#         )\n",
    "#         # Guardamos para reproducir los mismos rangos de tu for\n",
    "#         L = layers_sizes\n",
    "#         # Índices de particiones como en tu código\n",
    "#         mid_end = 2 * int((len(L) - 2) / 3)\n",
    "\n",
    "#         # Construimos los módulos siguiendo el mismo patrón\n",
    "#         mods = []\n",
    "\n",
    "#         # Primer bloque: GammaBias(layers[1]) + tanh\n",
    "#         mods.append(GammaBiasLayer(L[0], L[1]))\n",
    "#         mods.append(nn.Tanh())\n",
    "\n",
    "#         # Bloques intermedios: for l in layers[2 : mid_end]: GammaBias(l) + tanh\n",
    "#         in_dim = L[1]\n",
    "#         for l in L[2:mid_end]:\n",
    "#             mods.append(GammaBiasLayer(in_dim, l))\n",
    "#             mods.append(nn.Tanh())\n",
    "#             in_dim = l\n",
    "\n",
    "#         # Bloques finales (antes de salida): for l in layers[mid_end : -1]:\n",
    "#         #   GammaBias(layers[-2])  (tal como en tu código original)\n",
    "#         # Esto apila capas con anchura fija igual a L[-2]\n",
    "#         penultimate = L[-2]\n",
    "#         for _ in L[mid_end:-1]:\n",
    "#             mods.append(GammaBiasLayer(in_dim, penultimate))\n",
    "#             # OJO: el original no aplicaba activación aquí\n",
    "#             in_dim = penultimate\n",
    "\n",
    "#         # Capa de salida: GammaBias(layers[-1])\n",
    "#         mods.append(GammaBiasLayer(in_dim, L[-1]))\n",
    "\n",
    "#         self.net = nn.Sequential(*mods)\n",
    "\n",
    "#     def forward(self, x):\n",
    "#         # x: [N, 3] -> [N, 3]  (u, v, p)\n",
    "#         return self.net(x)"
   ]
  },
  {
   "cell_type": "code",
   "execution_count": 25,
   "id": "0c7cf944",
   "metadata": {},
   "outputs": [],
   "source": [
    "\n",
    "class PINNNet(nn.Module):\n",
    "    def __init__(self, num_input_variables=3, num_output_variables=3):\n",
    "        super().__init__()\n",
    "        neurons = 200 * num_output_variables \n",
    "        hidden_sizes = (2 * (num_input_variables + num_output_variables))*[neurons]\n",
    "        layers = []\n",
    "        last = num_input_variables\n",
    "        for h in hidden_sizes + [num_output_variables]:\n",
    "            layers.append(GammaBiasLayer(last, h))\n",
    "            last = h\n",
    "        self.layers = nn.ModuleList(layers)\n",
    "        self.activation = nn.Tanh()\n",
    "\n",
    "    def forward(self, x):\n",
    "        len1 = int(len(self.layers)/3)\n",
    "        len2 = int(2*len(self.layers)/3)\n",
    "        for layer in self.layers[:len1]:\n",
    "            x = self.activation(layer(x))\n",
    "        for layer in self.layers[len1:]:\n",
    "            x = layer(x)\n",
    "        return x"
   ]
  },
  {
   "cell_type": "code",
   "execution_count": 26,
   "id": "1ce0e027",
   "metadata": {},
   "outputs": [],
   "source": [
    "# model = PINNNet().to(device).double()\n",
    "model = PINNNet().to(device)"
   ]
  },
  {
   "cell_type": "markdown",
   "id": "751a631d",
   "metadata": {},
   "source": [
    "# Funciones de perdidas"
   ]
  },
  {
   "cell_type": "code",
   "execution_count": 27,
   "id": "7686f8ce",
   "metadata": {},
   "outputs": [],
   "source": [
    "mse_loss = nn.MSELoss()\n",
    "# mse_loss = nn.MSELoss(reduction=\"mean\")\n",
    "\n",
    "# @torch.enable_grad()\n",
    "def loss_NS_2D(model, t_eqns, x_eqns, y_eqns):\n",
    "    \"\"\"\n",
    "    Calcula los residuales 2D (incompresible) aproximados:\n",
    "      e1 = u_x + v_y\n",
    "      e2 = u_t + (u u_x + v u_y) + p_x\n",
    "      e3 = v_t + (u v_x + v v_y) + p_y\n",
    "    Devuelve MSE(0, e1) + MSE(0, e2) + MSE(0, e3)\n",
    "    \"\"\"\n",
    "    # Asegurar gradientes con respecto a entradas\n",
    "    for ten in (t_eqns, x_eqns, y_eqns):\n",
    "        ten.requires_grad_(True)\n",
    "\n",
    "    X = torch.cat([t_eqns, x_eqns, y_eqns], dim=1)  # [N, 3]\n",
    "    Y = model(X)                                     # [N, 3]\n",
    "    u, v, p = Y[:, 0:1], Y[:, 1:2], Y[:, 2:3]\n",
    "\n",
    "    ones_u = torch.ones_like(u)\n",
    "    ones_v = torch.ones_like(v)\n",
    "    ones_p = torch.ones_like(p)\n",
    "\n",
    "    # Derivadas primeras\n",
    "    u_t = torch.autograd.grad(u, t_eqns, grad_outputs=ones_u, create_graph=True)[0]\n",
    "    v_t = torch.autograd.grad(v, t_eqns, grad_outputs=ones_v, create_graph=True)[0]\n",
    "\n",
    "    u_x = torch.autograd.grad(u, x_eqns, grad_outputs=ones_u, create_graph=True)[0]\n",
    "    v_x = torch.autograd.grad(v, x_eqns, grad_outputs=ones_v, create_graph=True)[0]\n",
    "    p_x = torch.autograd.grad(p, x_eqns, grad_outputs=ones_p, create_graph=True)[0]\n",
    "\n",
    "    u_y = torch.autograd.grad(u, y_eqns, grad_outputs=ones_u, create_graph=True)[0]\n",
    "    v_y = torch.autograd.grad(v, y_eqns, grad_outputs=ones_v, create_graph=True)[0]\n",
    "    p_y = torch.autograd.grad(p, y_eqns, grad_outputs=ones_p, create_graph=True)[0]\n",
    "\n",
    "    # Residuales Navier–Stokes (sin términos viscosos, conforme a tu snippet)\n",
    "    e1 = (u_x + v_y)\n",
    "    e2 = (u_t + (u * u_x + v * u_y) + p_x)\n",
    "    e3 = (v_t + (u * v_x + v * v_y) + p_y)\n",
    "\n",
    "    zero = torch.zeros_like(e1)\n",
    "    return (\n",
    "        mse_loss(e1, zero) +\n",
    "        mse_loss(e2, zero) +\n",
    "        mse_loss(e3, zero)\n",
    "    )\n",
    "\n",
    "# @torch.no_grad()\n",
    "def _safe_std(x: torch.Tensor, eps: float = 1e-8):\n",
    "    # std con protección para divisiones por cero\n",
    "    s = torch.std(x)\n",
    "    return s.clamp_min(eps)\n",
    "\n",
    "def loss_u(model, t_b, x_b, y_b, u_b):\n",
    "    X = torch.cat([t_b, x_b, y_b], dim=1)\n",
    "    Y = model(X)\n",
    "    u_pred = Y[:, 0:1]\n",
    "    return mse_loss(u_pred, u_b) / (_safe_std(u_b) ** 2)\n",
    "\n",
    "def loss_v(model, t_b, x_b, y_b, v_b):\n",
    "    X = torch.cat([t_b, x_b, y_b], dim=1)\n",
    "    Y = model(X)\n",
    "    v_pred = Y[:, 1:2]\n",
    "    return mse_loss(v_pred, v_b) / (_safe_std(v_b) ** 2)\n",
    "\n",
    "def loss_p(model, t_b, x_b, y_b, p_b):\n",
    "    X = torch.cat([t_b, x_b, y_b], dim=1)\n",
    "    Y = model(X)\n",
    "    p_pred = Y[:, 2:3]\n",
    "    return mse_loss(p_pred, p_b) / (_safe_std(p_b) ** 2)\n",
    "\n",
    "def loss_total(\n",
    "    model,\n",
    "    # datos u\n",
    "    t_u_b, x_u_b, y_u_b, u_u_b,\n",
    "    # datos v\n",
    "    t_v_b, x_v_b, y_v_b, v_v_b,\n",
    "    # datos p\n",
    "    t_p_b, x_p_b, y_p_b, p_p_b,\n",
    "    # ecuaciones (referencia + ecuaciones)\n",
    "    t_eqns_ref_b, x_eqns_ref_b, y_eqns_ref_b,\n",
    "    t_eqns_b, x_eqns_b, y_eqns_b,\n",
    "    lamb: float\n",
    "):\n",
    "    NS_eqns = lamb * loss_NS_2D(model, t_eqns_b,     x_eqns_b,     y_eqns_b,   )\n",
    "    NS_data = lamb * loss_NS_2D(model, t_eqns_ref_b, x_eqns_ref_b, y_eqns_ref_b)\n",
    "    P_e = loss_p(model, t_p_b, x_p_b, y_p_b, p_p_b)\n",
    "    U_e = loss_u(model, t_u_b, x_u_b, y_u_b, u_u_b)\n",
    "    V_e = loss_v(model, t_v_b, x_v_b, y_v_b, v_v_b)\n",
    "\n",
    "    total_e = NS_eqns + NS_data + U_e + V_e + P_e\n",
    "    # Misma forma de tu retorno: suma de cuadrados/total\n",
    "#     print(f\"\"\"\n",
    "# {NS_eqns=}\n",
    "# {NS_data=}\n",
    "# {U_e=}\n",
    "# {V_e=}\n",
    "# {P_e=}\n",
    "# {total_e=}\n",
    "#           \"\"\")\n",
    "    # return (NS_eqns ** 2 + NS_data ** 2 + U_e ** 2 + V_e ** 2 + P_e ** 2) / total_e\n",
    "    return total_e"
   ]
  },
  {
   "cell_type": "markdown",
   "id": "c2a3f9a5",
   "metadata": {},
   "source": [
    "# Gradiente y optimizador"
   ]
  },
  {
   "cell_type": "code",
   "execution_count": 28,
   "id": "594f5251",
   "metadata": {},
   "outputs": [],
   "source": [
    "model_optimizer = torch.optim.Adam(model.parameters(), lr=1e-3)"
   ]
  },
  {
   "cell_type": "code",
   "execution_count": 29,
   "id": "48910f18",
   "metadata": {},
   "outputs": [],
   "source": [
    "# def grad(model,\n",
    "#          t_u_batch, x_u_batch, y_u_batch, u_u_batch,\n",
    "#          t_v_batch, x_v_batch, y_v_batch, v_v_batch,\n",
    "#          t_p_batch, x_p_batch, y_p_batch, p_p_batch,\n",
    "#          t_eqns_ref_batch, x_eqns_ref_batch, y_eqns_ref_batch,\n",
    "#          t_eqns_batch, x_eqns_batch, y_eqns_batch,\n",
    "#          lamb):\n",
    "    \n",
    "#     model.train()  # Asegura que el modelo esté en modo entrenamiento\n",
    "#     model.zero_grad()  # Limpia gradientes anteriores\n",
    "\n",
    "#     # Forward pass\n",
    "#     loss_value = loss_total(model,\n",
    "#                             t_u_batch, x_u_batch, y_u_batch, u_u_batch,\n",
    "#                             t_v_batch, x_v_batch, y_v_batch, v_v_batch,\n",
    "#                             t_p_batch, x_p_batch, y_p_batch, p_p_batch,\n",
    "#                             t_eqns_ref_batch, x_eqns_ref_batch, y_eqns_ref_batch,\n",
    "#                             t_eqns_batch, x_eqns_batch, y_eqns_batch,\n",
    "#                             lamb,\n",
    "#                             training=True)\n",
    "\n",
    "#     # Backward pass\n",
    "#     loss_value.backward()\n",
    "\n",
    "#     # Extraer gradientes\n",
    "#     gradient_model = [p.grad.clone() if p.grad is not None else None\n",
    "#                       for p in model.parameters() if p.requires_grad]\n",
    "\n",
    "#     return loss_value.detach(), gradient_model\n"
   ]
  },
  {
   "cell_type": "code",
   "execution_count": 30,
   "id": "1d925d1d",
   "metadata": {},
   "outputs": [],
   "source": [
    "scaler = torch.amp.GradScaler(enabled=(device.type == \"cuda\"))\n",
    "# scaler = torch.cuda.amp.GradScaler(enabled=(device.type == \"cuda\"))\n",
    "\n",
    "def grad_amp(model, model_optimizer, scaler,\n",
    "             t_u_batch, x_u_batch, y_u_batch, u_u_batch,\n",
    "             t_v_batch, x_v_batch, y_v_batch, v_v_batch,\n",
    "             t_p_batch, x_p_batch, y_p_batch, p_p_batch,\n",
    "             t_eqns_ref_batch, x_eqns_ref_batch, y_eqns_ref_batch,\n",
    "             t_eqns_batch, x_eqns_batch, y_eqns_batch,\n",
    "             lamb):\n",
    "    model.train()\n",
    "    model_optimizer.zero_grad(set_to_none=True)\n",
    "\n",
    "    # with torch.cuda.amp.autocast(enabled=False):\n",
    "    # with torch.cuda.amp.autocast(dtype=torch.float64):\n",
    "    # with torch.amp.autocast(dtype=torch.float64, device_type=device.type):\n",
    "    use_amp = (device.type == \"cuda\")\n",
    "    with torch.amp.autocast(device_type=device.type, enabled=use_amp):\n",
    "        loss_value = loss_total(model,\n",
    "                                t_u_batch, x_u_batch, y_u_batch, u_u_batch,\n",
    "                                t_v_batch, x_v_batch, y_v_batch, v_v_batch,\n",
    "                                t_p_batch, x_p_batch, y_p_batch, p_p_batch,\n",
    "                                t_eqns_ref_batch, x_eqns_ref_batch, y_eqns_ref_batch,\n",
    "                                t_eqns_batch, x_eqns_batch, y_eqns_batch,\n",
    "                                lamb)\n",
    "\n",
    "    scaler.scale(loss_value).backward()\n",
    "    scaler.step(model_optimizer)\n",
    "    scaler.update()\n",
    "\n",
    "    # # Si quieres inspeccionar gradientes:\n",
    "    # grads = [p.grad.detach().clone() if p.grad is not None else None\n",
    "    #          for p in model.parameters() if p.requires_grad]\n",
    "\n",
    "    return loss_value.detach()#, grads"
   ]
  },
  {
   "cell_type": "code",
   "execution_count": 31,
   "id": "30b26ba2",
   "metadata": {},
   "outputs": [],
   "source": [
    "# def grad_full_double(model, model_optimizer,\n",
    "#              t_u_batch, x_u_batch, y_u_batch, u_u_batch,\n",
    "#              t_v_batch, x_v_batch, y_v_batch, v_v_batch,\n",
    "#              t_p_batch, x_p_batch, y_p_batch, p_p_batch,\n",
    "#              t_eqns_ref_batch, x_eqns_ref_batch, y_eqns_ref_batch,\n",
    "#              t_eqns_batch, x_eqns_batch, y_eqns_batch,\n",
    "#              lamb):\n",
    "#     model.train()\n",
    "#     model_optimizer.zero_grad(set_to_none=True)\n",
    "\n",
    "\n",
    "#     loss_value = loss_total(model,\n",
    "#                             t_u_batch, x_u_batch, y_u_batch, u_u_batch,\n",
    "#                             t_v_batch, x_v_batch, y_v_batch, v_v_batch,\n",
    "#                             t_p_batch, x_p_batch, y_p_batch, p_p_batch,\n",
    "#                             t_eqns_ref_batch, x_eqns_ref_batch, y_eqns_ref_batch,\n",
    "#                             t_eqns_batch, x_eqns_batch, y_eqns_batch,\n",
    "#                             lamb)\n",
    "\n",
    "#     loss_value.backward()\n",
    "#     model_optimizer.step()\n",
    "\n",
    "\n",
    "#     return loss_value.detach()"
   ]
  },
  {
   "cell_type": "markdown",
   "id": "c4aa5841",
   "metadata": {},
   "source": [
    "# Helpers de métricas simples por época (media acumulada)"
   ]
  },
  {
   "cell_type": "code",
   "execution_count": 32,
   "id": "e114d34d",
   "metadata": {},
   "outputs": [],
   "source": [
    "class RunningMean:\n",
    "    def __init__(self):\n",
    "        self.sum = 0.0\n",
    "        self.count = 0\n",
    "\n",
    "    def update(self, value, n=1):\n",
    "        # value puede ser tensor o float\n",
    "        v = float(value) if torch.is_tensor(value) else float(value)\n",
    "        self.sum += v * n\n",
    "        self.count += n\n",
    "\n",
    "    @property\n",
    "    def result(self):\n",
    "        return self.sum / max(self.count, 1)"
   ]
  },
  {
   "cell_type": "markdown",
   "id": "9170e426",
   "metadata": {},
   "source": [
    "# Entrenamiento"
   ]
  },
  {
   "cell_type": "code",
   "execution_count": 33,
   "id": "12c6b343",
   "metadata": {},
   "outputs": [
    {
     "name": "stdout",
     "output_type": "stream",
     "text": [
      "cuda\n"
     ]
    }
   ],
   "source": [
    "print(device)"
   ]
  },
  {
   "cell_type": "code",
   "execution_count": 34,
   "id": "62c3436a",
   "metadata": {},
   "outputs": [],
   "source": [
    "def adjust_learning_rate(optimizer, epoch_loss):\n",
    "    if epoch_loss > 1e-1:\n",
    "        new_lr = 1e-3\n",
    "    elif epoch_loss > 3e-2:\n",
    "        new_lr = 1e-4\n",
    "    elif epoch_loss > 3e-3:\n",
    "        new_lr = 1e-5\n",
    "    else:\n",
    "        new_lr = 1e-6\n",
    "\n",
    "    for param_group in optimizer.param_groups:\n",
    "        param_group['lr'] = new_lr\n",
    "\n",
    "    return new_lr"
   ]
  },
  {
   "cell_type": "code",
   "execution_count": 35,
   "id": "cd29282f",
   "metadata": {},
   "outputs": [],
   "source": [
    "def train_eval_model(loader_u, loader_v, loader_p, loader_eqns_ref, loader_eqns):\n",
    "\n",
    "    for idx,(\\\n",
    "        (t_u_b, x_u_b, y_u_b, u_u_b), \\\n",
    "        (t_v_b, x_v_b, y_v_b, v_v_b), \\\n",
    "        (t_p_b, x_p_b, y_p_b, p_p_b), \\\n",
    "        (t_eq_ref_b, x_eq_ref_b, y_eq_ref_b), \\\n",
    "        (t_eq_b, x_eq_b, y_eq_b)) in enumerate(zip(loader_u, loader_v, loader_p, loader_eqns_ref, loader_eqns)):\n",
    "\n",
    "        # Se envian tensores a device\n",
    "        t_u_b = t_u_b.to(device)\n",
    "        x_u_b = x_u_b.to(device)\n",
    "        y_u_b = y_u_b.to(device)\n",
    "        u_u_b = u_u_b.to(device)\n",
    "        t_v_b = t_v_b.to(device)\n",
    "        x_v_b = x_v_b.to(device)\n",
    "        y_v_b = y_v_b.to(device)\n",
    "        v_v_b = v_v_b.to(device)\n",
    "        t_p_b = t_p_b.to(device)\n",
    "        x_p_b = x_p_b.to(device)\n",
    "        y_p_b = y_p_b.to(device)\n",
    "        p_p_b = p_p_b.to(device)\n",
    "        t_eq_ref_b = t_eq_ref_b.to(device)\n",
    "        x_eq_ref_b = x_eq_ref_b.to(device)\n",
    "        y_eq_ref_b = y_eq_ref_b.to(device)\n",
    "        t_eq_b = t_eq_b.to(device)\n",
    "        x_eq_b = x_eq_b.to(device)\n",
    "        y_eq_b = y_eq_b.to(device)\n",
    "\n",
    "        with torch.enable_grad():\n",
    "            loss_train = grad_amp(model, model_optimizer, scaler,\n",
    "                                  t_u_b, x_u_b, y_u_b, u_u_b,\n",
    "                                  t_v_b, x_v_b, y_v_b, v_v_b,\n",
    "                                  t_p_b, x_p_b, y_p_b, p_p_b,\n",
    "                                  t_eq_ref_b, x_eq_ref_b, y_eq_ref_b,\n",
    "                                  t_eq_b, x_eq_b, y_eq_b, lamb)\n",
    "            epoch_loss_avg.update(loss_train)\n",
    "\n",
    "\n",
    "        model.eval()\n",
    "        # with torch.no_grad():\n",
    "        NS_loss = loss_NS_2D(model, t_eq_b, x_eq_b, y_eq_b)\n",
    "        U_loss  = loss_u(model, t_u_b, x_u_b, y_u_b, u_u_b)\n",
    "        V_loss  = loss_v(model, t_v_b, x_v_b, y_v_b, v_v_b)\n",
    "        P_loss  = loss_p(model, t_p_b, x_p_b, y_p_b, p_p_b)\n",
    "\n",
    "        epoch_NS_loss_avg.update(NS_loss)\n",
    "        epoch_U_loss_avg.update(U_loss)\n",
    "        epoch_V_loss_avg.update(V_loss)\n",
    "        epoch_P_loss_avg.update(P_loss)\n",
    "\n",
    "    return (\n",
    "        epoch_loss_avg.result,\n",
    "        epoch_NS_loss_avg.result,\n",
    "        epoch_U_loss_avg.result,\n",
    "        epoch_V_loss_avg.result,\n",
    "        epoch_P_loss_avg.result,\n",
    "        )\n",
    "        \n",
    "        \n",
    "        # # End epoch\n",
    "        # epoch_loss_avg.update(loss_train)\n",
    "        # epoch_NS_loss_avg.update(NS_loss)\n",
    "        # epoch_P_loss_avg.update(P_loss)\n",
    "        # epoch_U_loss_avg.update(U_loss)\n",
    "        # epoch_V_loss_avg.update(V_loss)\n",
    "\n",
    "\n",
    "\n",
    "\n",
    "\n",
    "    ..."
   ]
  },
  {
   "cell_type": "code",
   "execution_count": null,
   "id": "ab17f351",
   "metadata": {},
   "outputs": [
    {
     "name": "stderr",
     "output_type": "stream",
     "text": [
      "/tmp/ipykernel_38802/2629113636.py:8: UserWarning: Converting a tensor with requires_grad=True to a scalar may lead to unexpected behavior.\n",
      "Consider using tensor.detach() first. (Triggered internally at /pytorch/torch/csrc/autograd/generated/python_variable_methods.cpp:836.)\n",
      "  v = float(value) if torch.is_tensor(value) else float(value)\n"
     ]
    },
    {
     "name": "stdout",
     "output_type": "stream",
     "text": [
      "Epoch:    1 | Loss training:        nan | NS_Loss:        inf | U_Loss: 5.4979e+21 | V_Loss: 1.5115e+23 | P_Loss: 2.5002e+19 | learning rate: 1.0000e-06 | \n",
      "Epoch:    2 | Loss training:        nan | NS_Loss:        inf | U_Loss: 5.4640e+21 | V_Loss: 1.5090e+23 | P_Loss: 2.5047e+19 | learning rate: 1.0000e-06 | \n"
     ]
    },
    {
     "name": "stderr",
     "output_type": "stream",
     "text": [
      "Exception ignored in: <bound method IPythonKernel._clean_thread_parent_frames of <ipykernel.ipkernel.IPythonKernel object at 0x71aa5e16f290>>\n",
      "Traceback (most recent call last):\n",
      "  File \"/home/alejandro/Proyectos/pinns_bruselas/venv/lib/python3.12/site-packages/ipykernel/ipkernel.py\", line 797, in _clean_thread_parent_frames\n",
      "    def _clean_thread_parent_frames(\n",
      "\n",
      "KeyboardInterrupt: \n"
     ]
    },
    {
     "name": "stdout",
     "output_type": "stream",
     "text": [
      "Epoch:    3 | Loss training:        nan | NS_Loss:        inf | U_Loss: 5.4842e+21 | V_Loss: 1.5055e+23 | P_Loss: 2.5047e+19 | learning rate: 1.0000e-06 | \n",
      "Epoch:    4 | Loss training:        nan | NS_Loss:        inf | U_Loss: 5.4838e+21 | V_Loss: 1.5052e+23 | P_Loss: 2.4967e+19 | learning rate: 1.0000e-06 | \n"
     ]
    }
   ],
   "source": [
    "# Obten la mejor pérdida \n",
    "major_loss_validation = float('inf')\n",
    "\n",
    "# Keep results for plotting\n",
    "train_loss_results = []\n",
    "NS_loss_results = []\n",
    "P_loss_results = []\n",
    "U_loss_results = []\n",
    "V_loss_results = []\n",
    "\n",
    "for epoch in range(1, num_epochs + 1):\n",
    "\n",
    "    # Inicializamos registros de las funciones de perdida\n",
    "    epoch_loss_avg = RunningMean()\n",
    "    epoch_NS_loss_avg = RunningMean()\n",
    "    epoch_P_loss_avg = RunningMean()\n",
    "    epoch_U_loss_avg = RunningMean()\n",
    "    epoch_V_loss_avg = RunningMean()\n",
    "\n",
    "    # Train\n",
    "    loss_train, NS_loss, U_loss, V_loss, P_loss = train_eval_model(loader_u, loader_v, loader_p, loader_eqns_ref, loader_eqns)\n",
    "    # End epoch\n",
    "    train_loss_results.append(loss_train)\n",
    "    NS_loss_results.append(NS_loss)\n",
    "    U_loss_results.append(U_loss)\n",
    "    V_loss_results.append(V_loss)\n",
    "    P_loss_results.append(P_loss)\n",
    "\n",
    "    # Update learning rate\n",
    "    new_lr = adjust_learning_rate(model_optimizer, loss_train)\n",
    "    \n",
    "    print(f\"Epoch: {epoch:4} | \"\n",
    "          f\"Loss training: {loss_train:10.4e} | \"\n",
    "          f\"NS_Loss: {NS_loss:10.4e} | \"\n",
    "          f\"U_Loss: {U_loss:10.4e} | \"\n",
    "          f\"V_Loss: {V_loss:10.4e} | \"\n",
    "          f\"P_Loss: {P_loss:10.4e} | \"\n",
    "          f\"learning rate: {new_lr:10.4e} | \"\n",
    "          )\n"
   ]
  },
  {
   "cell_type": "code",
   "execution_count": null,
   "id": "ec0b2481",
   "metadata": {},
   "outputs": [],
   "source": [
    "# print(f\"|{0.0001234:10.4e}|\")"
   ]
  },
  {
   "cell_type": "code",
   "execution_count": null,
   "id": "fbfd04dc",
   "metadata": {},
   "outputs": [],
   "source": [
    "# for epoch in range(10):\n",
    "#     for (t_u,x_u,y_u,u_u), (t_v,x_v,y_v,v_v) in zip(loader_u, loader_v):\n",
    "#         # print(f\"{x_u.shape=}\")\n",
    "#         # print(f\"{y_u=}\")\n",
    "#         # print(f\"{t_u=}\")\n",
    "#         # print(f\"{u_u=}\")\n",
    "#         # print(torch.concat([t_u,x_u,y_u,u_u], axis=1))\n",
    "#         # print(\"*\"*10)\n",
    "#         # print(f\"{x_v.shape=}\")\n",
    "#         # print(f\"{y_v=}\")\n",
    "#         # print(f\"{t_v=}\")\n",
    "#         # print(f\"{v_v=}\")\n",
    "#         print(torch.concat([t_v,x_v,y_v,v_v], axis=1)[:5,:])\n",
    "\n",
    "\n",
    "#         ans = input(\"stop?\")\n",
    "#         if ans == \"y\":\n",
    "#             break\n",
    "#     if ans == \"y\":\n",
    "#         break"
   ]
  },
  {
   "cell_type": "code",
   "execution_count": null,
   "id": "e42525d8",
   "metadata": {},
   "outputs": [],
   "source": [
    "# train_loss_results = []\n",
    "# NS_loss_results = []\n",
    "# P_loss_results = []\n",
    "# U_loss_results = []\n",
    "# V_loss_results = []\n",
    "\n",
    "# for epoch in range(num_epochs):\n",
    "#     model.train()\n",
    "#     epoch_loss_avg = RunningMean()\n",
    "#     epoch_NS_loss_avg = RunningMean()\n",
    "#     epoch_P_loss_avg = RunningMean()\n",
    "#     epoch_U_loss_avg = RunningMean()\n",
    "#     epoch_V_loss_avg = RunningMean()\n",
    "\n",
    "#     # zip se detiene en el DataLoader más corto (equivale a tu min_div)\n",
    "#     for (t_u_b, x_u_b, y_u_b, u_u_b), \\\n",
    "#         (t_v_b, x_v_b, y_v_b, v_v_b), \\\n",
    "#         (t_p_b, x_p_b, y_p_b, p_p_b), \\\n",
    "#         (t_eq_ref_b, x_eq_ref_b, y_eq_ref_b), \\\n",
    "#         (t_eq_b, x_eq_b, y_eq_b) in zip(loader_u, loader_v, loader_p, loader_eqns_ref, loader_eqns):\n",
    "\n",
    "#         # Enviar a device\n",
    "#         t_u_b, x_u_b, y_u_b, u_u_b = to_dev(t_u_b, x_u_b, y_u_b, u_u_b, device=device)\n",
    "#         t_v_b, x_v_b, y_v_b, v_v_b = to_dev(t_v_b, x_v_b, y_v_b, v_v_b, device=device)\n",
    "#         t_p_b, x_p_b, y_p_b, p_p_b = to_dev(t_p_b, x_p_b, y_p_b, p_p_b, device=device)\n",
    "#         t_eq_ref_b, x_eq_ref_b, y_eq_ref_b = to_dev(t_eq_ref_b, x_eq_ref_b, y_eq_ref_b, device=device)\n",
    "#         t_eq_b, x_eq_b, y_eq_b = to_dev(t_eq_b, x_eq_b, y_eq_b, device=device)\n",
    "\n",
    "#         # Paso de entrenamiento\n",
    "#         model_optimizer.zero_grad(set_to_none=True)\n",
    "#         loss_train = loss_total(\n",
    "#             model,\n",
    "#             # u\n",
    "#             t_u_b, x_u_b, y_u_b, u_u_b,\n",
    "#             # v\n",
    "#             t_v_b, x_v_b, y_v_b, v_v_b,\n",
    "#             # p\n",
    "#             t_p_b, x_p_b, y_p_b, p_p_b,\n",
    "#             # eqns ref\n",
    "#             t_eq_ref_b, x_eq_ref_b, y_eq_ref_b,\n",
    "#             # eqns\n",
    "#             t_eq_b, x_eq_b, y_eq_b,\n",
    "#             lamb, training=True\n",
    "#         )\n",
    "#         loss_train.backward()\n",
    "#         model_optimizer.step()\n",
    "\n",
    "#         # Métricas por lote (sin gradiente, modo eval para consistencia)\n",
    "#         model.eval()\n",
    "#         with torch.no_grad():\n",
    "#             NS_loss = loss_NS_2D(model, t_eq_b.clone(), x_eq_b.clone(), y_eq_b.clone(), training=False)\n",
    "#             P_loss = loss_p(model, t_p_b, x_p_b, y_p_b, p_p_b, training=False)\n",
    "#             U_loss = loss_u(model, t_u_b, x_u_b, y_u_b, u_u_b, training=False)\n",
    "#             V_loss = loss_v(model, t_v_b, x_v_b, y_v_b, v_v_b, training=False)\n",
    "\n",
    "#         # Acumular promedios\n",
    "#         bs = t_u_b.shape[0]  # cualquier batch size como peso\n",
    "#         epoch_loss_avg.update(loss_train, n=bs)\n",
    "#         epoch_NS_loss_avg.update(NS_loss, n=bs)\n",
    "#         epoch_P_loss_avg.update(P_loss, n=bs)\n",
    "#         epoch_U_loss_avg.update(U_loss, n=bs)\n",
    "#         epoch_V_loss_avg.update(V_loss, n=bs)\n",
    "\n",
    "#         model.train()  # volver a train para el siguiente batch\n",
    "\n",
    "#     # --- fin de la época: guardar resultados de métricas ---\n",
    "#     train_loss_results.append(epoch_loss_avg.result)\n",
    "#     NS_loss_results.append(epoch_NS_loss_avg.result)\n",
    "#     P_loss_results.append(epoch_P_loss_avg.result)\n",
    "#     U_loss_results.append(epoch_U_loss_avg.result)\n",
    "#     V_loss_results.append(epoch_V_loss_avg.result)\n",
    "\n",
    "#     # --- actualizar LR como en tu scheduler por umbrales ---\n",
    "#     avg = epoch_loss_avg.result\n",
    "#     if avg > 1e-1:\n",
    "#         new_lr = 1e-3\n",
    "#     elif avg > 3e-2:\n",
    "#         new_lr = 1e-4\n",
    "#     elif avg > 3e-3:\n",
    "#         new_lr = 1e-5\n",
    "#     else:\n",
    "#         new_lr = 1e-6\n",
    "#     for g in model_optimizer.param_groups:\n",
    "#         g['lr'] = new_lr\n",
    "\n",
    "#     print(f\"Epoch: {epoch:4d} \"\n",
    "#           f\"Loss_training: {epoch_loss_avg.result:.3e} \"\n",
    "#           f\"NS_loss: {epoch_NS_loss_avg.result:.3e} \"\n",
    "#           f\"P_loss: {epoch_P_loss_avg.result:.3e} \"\n",
    "#           f\"U_loss: {epoch_U_loss_avg.result:.3e} \"\n",
    "#           f\"V_loss: {epoch_V_loss_avg.result:.3e}  \"\n",
    "#           f\"(lr={new_lr:.0e})\")\n",
    "\n",
    "#     # ------------------ Guardado de predicciones/modelo ------------------\n",
    "#     if (epoch + 1) % num_epochs == 0:\n",
    "#         model.eval()\n",
    "#         with torch.no_grad():\n",
    "#             # Salidas de alta resolución (PINN grid)\n",
    "#             U_PINN = np.zeros_like(X_PINN)\n",
    "#             V_PINN = np.zeros_like(X_PINN)\n",
    "#             P_PINN = np.zeros_like(X_PINN)\n",
    "\n",
    "#             for snap in range(0, X_PINN.shape[1]):\n",
    "#                 t_out = torch.as_tensor(T_PINN[:, snap:snap+1], dtype=torch.get_default_dtype(), device=device)\n",
    "#                 x_out = torch.as_tensor(X_PINN[:, snap:snap+1], dtype=torch.get_default_dtype(), device=device)\n",
    "#                 y_out = torch.as_tensor(Y_PINN[:, snap:snap+1], dtype=torch.get_default_dtype(), device=device)\n",
    "#                 X_out = torch.cat([t_out, x_out, y_out], dim=1)  # [N,3]\n",
    "#                 Y_out = model(X_out)                              # [N,3]\n",
    "#                 u_pred, v_pred, p_pred = Y_out[:,0:1], Y_out[:,1:2], Y_out[:,2:3]\n",
    "#                 U_PINN[:, snap:snap+1] = u_pred.cpu().numpy()\n",
    "#                 V_PINN[:, snap:snap+1] = v_pred.cpu().numpy()\n",
    "#                 P_PINN[:, snap:snap+1] = p_pred.cpu().numpy()\n",
    "\n",
    "#             # Predicciones en WS\n",
    "#             U_WS_pred = np.zeros_like(X_WS)\n",
    "#             V_WS_pred = np.zeros_like(X_WS)\n",
    "#             P_WS_pred = np.zeros_like(X_WS)\n",
    "\n",
    "#             for snap in range(0, X_WS.shape[1]):\n",
    "#                 t_out = torch.as_tensor(T_WS[:, snap:snap+1], dtype=torch.get_default_dtype(), device=device)\n",
    "#                 x_out = torch.as_tensor(X_WS[:, snap:snap+1], dtype=torch.get_default_dtype(), device=device)\n",
    "#                 y_out = torch.as_tensor(Y_WS[:, snap:snap+1], dtype=torch.get_default_dtype(), device=device)\n",
    "#                 X_out = torch.cat([t_out, x_out, y_out], dim=1)\n",
    "#                 Y_out = model(X_out)\n",
    "#                 u_pred, v_pred, p_pred = Y_out[:,0:1], Y_out[:,1:2], Y_out[:,2:3]\n",
    "#                 U_WS_pred[:, snap:snap+1] = u_pred.cpu().numpy()\n",
    "#                 V_WS_pred[:, snap:snap+1] = v_pred.cpu().numpy()\n",
    "#                 P_WS_pred[:, snap:snap+1] = p_pred.cpu().numpy()\n",
    "\n",
    "#             # Predicciones en validación\n",
    "#             U_val_pred = np.zeros_like(X_val)\n",
    "#             V_val_pred = np.zeros_like(X_val)\n",
    "#             P_val_pred = np.zeros_like(X_val)\n",
    "\n",
    "#             for snap in range(0, X_val.shape[1]):\n",
    "#                 t_out = torch.as_tensor(T_val[:, snap:snap+1], dtype=torch.get_default_dtype(), device=device)\n",
    "#                 x_out = torch.as_tensor(X_val[:, snap:snap+1], dtype=torch.get_default_dtype(), device=device)\n",
    "#                 y_out = torch.as_tensor(Y_val[:, snap:snap+1], dtype=torch.get_default_dtype(), device=device)\n",
    "#                 X_out = torch.cat([t_out, x_out, y_out], dim=1)\n",
    "#                 Y_out = model(X_out)\n",
    "#                 u_pred, v_pred, p_pred = Y_out[:,0:1], Y_out[:,1:2], Y_out[:,2:3]\n",
    "#                 U_val_pred[:, snap:snap+1] = u_pred.cpu().numpy()\n",
    "#                 V_val_pred[:, snap:snap+1] = v_pred.cpu().numpy()\n",
    "#                 P_val_pred[:, snap:snap+1] = p_pred.cpu().numpy()\n",
    "\n",
    "#         # Guardar .mat\n",
    "#         scipy.io.savemat(\n",
    "#             f'Brussels_{epoch+1}_lambda_{lamb}_R_{R}_envelope.mat',\n",
    "#             {\n",
    "#                 'T_PINN': T_PINN, 'X_PINN': X_PINN, 'Y_PINN': Y_PINN,\n",
    "#                 'U_PINN': U_PINN, 'V_PINN': V_PINN, 'P_PINN': P_PINN,\n",
    "#                 'T_WS': T_WS, 'X_WS': X_WS, 'Y_WS': Y_WS,\n",
    "#                 'U_WS': U_WS, 'V_WS': V_WS, 'P_WS': P_WS,\n",
    "#                 'U_WS_pred': U_WS_pred, 'V_WS_pred': V_WS_pred, 'P_WS_pred': P_WS_pred,\n",
    "#                 'T_val': T_val, 'X_val': X_val, 'Y_val': Y_val,\n",
    "#                 'U_val': U_val, 'V_val': V_val, 'P_val': P_val,\n",
    "#                 'U_val_pred': U_val_pred, 'V_val_pred': V_val_pred, 'P_val_pred': P_val_pred,\n",
    "#                 'Train_loss': np.array(train_loss_results, dtype=float),\n",
    "#                 'NS_loss': np.array(NS_loss_results, dtype=float),\n",
    "#                 'P_loss': np.array(P_loss_results, dtype=float),\n",
    "#                 'U_loss': np.array(U_loss_results, dtype=float),\n",
    "#                 'V_loss': np.array(V_loss_results, dtype=float),\n",
    "#             }\n",
    "#         )\n",
    "\n",
    "#         # Guardar el modelo (state dict + versión trazada opcional)\n",
    "#         model_filename = f'PINN_model_epoch_{epoch+1}_lambda_{lamb}_R_{R}'\n",
    "#         torch.save(model.state_dict(), model_filename + \".pth\")\n",
    "#         try:\n",
    "#             # Trazeo con un input dummy (ajusta el tamaño según tu caso)\n",
    "#             dummy = torch.zeros(1, 3, device=device, dtype=torch.get_default_dtype())\n",
    "#             traced = torch.jit.trace(model, dummy)\n",
    "#             traced.save(model_filename + \"_traced.pt\")\n",
    "#         except Exception as e:\n",
    "#             print(\"Aviso: no se pudo trazar el modelo (torch.jit.trace).\", e)\n",
    "#         print(f\"Modelo guardado en: {model_filename}.pth (y traced si fue posible)\")"
   ]
  },
  {
   "cell_type": "code",
   "execution_count": null,
   "id": "f353e998",
   "metadata": {},
   "outputs": [],
   "source": [
    "# "
   ]
  },
  {
   "cell_type": "code",
   "execution_count": null,
   "id": "264cbe1e",
   "metadata": {},
   "outputs": [],
   "source": [
    "# "
   ]
  },
  {
   "cell_type": "code",
   "execution_count": null,
   "id": "d3bd23b5",
   "metadata": {},
   "outputs": [],
   "source": [
    "# "
   ]
  },
  {
   "cell_type": "code",
   "execution_count": null,
   "id": "959fde47",
   "metadata": {},
   "outputs": [],
   "source": [
    "# "
   ]
  },
  {
   "cell_type": "markdown",
   "id": "69d7b2e2",
   "metadata": {},
   "source": [
    "# X"
   ]
  },
  {
   "cell_type": "code",
   "execution_count": null,
   "id": "4b569683",
   "metadata": {},
   "outputs": [],
   "source": [
    "# import torch\n",
    "# from torch.utils.data import Dataset, DataLoader, RandomSampler\n",
    "\n",
    "# # 1. Define a custom Dataset\n",
    "# class CustomDataset(Dataset):\n",
    "#     def __init__(self, data):\n",
    "#         self.data = data\n",
    "\n",
    "#     def __len__(self):\n",
    "#         return len(self.data)\n",
    "\n",
    "#     def __getitem__(self, idx):\n",
    "#         return self.data[idx]\n",
    "\n",
    "# # Create some dummy data\n",
    "# dummy_data = [f\"sample_{i}\" for i in range(10)]\n",
    "# dataset = CustomDataset(dummy_data)\n",
    "\n",
    "# # 2. Create a RandomSampler\n",
    "# # By default, replacement is False (sampling without replacement)\n",
    "# # You can also specify num_samples if you want to sample a subset\n",
    "# sampler = RandomSampler(dataset, replacement=False) \n",
    "\n",
    "# # If you want to sample with replacement and specify a number of samples:\n",
    "# # sampler_with_replacement = RandomSampler(dataset, replacement=True, num_samples=20) \n",
    "\n",
    "# # 3. Create a DataLoader using the sampler\n",
    "# # When a sampler is provided, the 'shuffle' argument in DataLoader should be False\n",
    "# dataloader = DataLoader(dataset, batch_size=5, sampler=sampler)\n",
    "\n",
    "# # 4. Iterate through the DataLoader to get random batches\n",
    "# print(\"Randomly sampled batches:\")\n",
    "# for batch in dataloader:\n",
    "#     print(batch)\n",
    "\n",
    "# # Example with a fixed random seed for reproducibility\n",
    "# print(\"\\nRandomly sampled batches with fixed seed:\")\n",
    "# generator = torch.Generator()\n",
    "# generator.manual_seed(42) # Set a seed for reproducibility\n",
    "# sampler_seeded = RandomSampler(dataset, generator=generator)\n",
    "# dataloader_seeded = DataLoader(dataset, batch_size=2, sampler=sampler_seeded)\n",
    "\n",
    "# for batch in dataloader_seeded:\n",
    "#     print(batch)"
   ]
  },
  {
   "cell_type": "code",
   "execution_count": null,
   "id": "1bb63e23",
   "metadata": {},
   "outputs": [],
   "source": [
    "# np.random.choice(10, 8, replace=False)"
   ]
  },
  {
   "cell_type": "code",
   "execution_count": null,
   "id": "a8c5e6a2",
   "metadata": {},
   "outputs": [],
   "source": [
    "# "
   ]
  }
 ],
 "metadata": {
  "kernelspec": {
   "display_name": "venv",
   "language": "python",
   "name": "python3"
  },
  "language_info": {
   "codemirror_mode": {
    "name": "ipython",
    "version": 3
   },
   "file_extension": ".py",
   "mimetype": "text/x-python",
   "name": "python",
   "nbconvert_exporter": "python",
   "pygments_lexer": "ipython3",
   "version": "3.12.3"
  }
 },
 "nbformat": 4,
 "nbformat_minor": 5
}
