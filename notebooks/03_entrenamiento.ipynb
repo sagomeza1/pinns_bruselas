{
 "cells": [
  {
   "cell_type": "code",
   "execution_count": 5,
   "id": "90c993fa",
   "metadata": {},
   "outputs": [],
   "source": [
    "\n",
    "import torch\n",
    "from torch.utils.data import Dataset, DataLoader\n",
    "import scipy.io as sio\n",
    "from pathlib import Path\n"
   ]
  },
  {
   "cell_type": "code",
   "execution_count": 2,
   "id": "bd2b68ea",
   "metadata": {},
   "outputs": [
    {
     "name": "stdout",
     "output_type": "stream",
     "text": [
      "Python 3.12.3\n"
     ]
    }
   ],
   "source": [
    "! python --version"
   ]
  },
  {
   "cell_type": "code",
   "execution_count": 3,
   "id": "85ef6bf2",
   "metadata": {},
   "outputs": [
    {
     "data": {
      "text/plain": [
       "'2.9.0+cu128'"
      ]
     },
     "execution_count": 3,
     "metadata": {},
     "output_type": "execute_result"
    }
   ],
   "source": [
    "torch.__version__"
   ]
  },
  {
   "cell_type": "code",
   "execution_count": 4,
   "id": "21d922cd",
   "metadata": {},
   "outputs": [
    {
     "data": {
      "text/plain": [
       "True"
      ]
     },
     "execution_count": 4,
     "metadata": {},
     "output_type": "execute_result"
    }
   ],
   "source": [
    "torch.cuda.is_available()"
   ]
  },
  {
   "cell_type": "markdown",
   "id": "c8b1ce95",
   "metadata": {},
   "source": [
    "# Rutas"
   ]
  },
  {
   "cell_type": "code",
   "execution_count": 6,
   "id": "aa38cd1f",
   "metadata": {},
   "outputs": [],
   "source": [
    "BASE_DIR = Path().resolve().parents[0]\n",
    "DATA_PROC_DIR = BASE_DIR / \"data\" / \"processed\""
   ]
  },
  {
   "cell_type": "markdown",
   "id": "4443c9fa",
   "metadata": {},
   "source": [
    "# Carga de datos"
   ]
  },
  {
   "cell_type": "code",
   "execution_count": 10,
   "id": "476e45b3",
   "metadata": {},
   "outputs": [],
   "source": [
    "path_data = DATA_PROC_DIR / \"weather_data_processed.mat\"\n",
    "WS_data = sio.loadmat(path_data)"
   ]
  },
  {
   "cell_type": "code",
   "execution_count": null,
   "id": "40a84e77",
   "metadata": {},
   "outputs": [],
   "source": [
    "# Malla PINN\n",
    "X_PINN = WS_data[\"X_PINN\"]\n",
    "Y_PINN = WS_data[\"Y_PINN\"]\n",
    "T_PINN = WS_data[\"T_PINN\"]\n",
    "# Data WS\n",
    "T_WS = WS_data[\"T_WS\"]\n",
    "P_WS = WS_data[\"P_WS\"]\n",
    "U_WS = WS_data[\"U_WS\"]\n",
    "V_WS = WS_data[\"V_WS\"]\n",
    "X_WS = WS_data[\"X_WS\"]\n",
    "Y_WS = WS_data[\"Y_WS\"]\n",
    "# Data val\n",
    "WS_val = WS_data[\"WS_val\"]\n",
    "T_val = WS_data[\"T_val\"]\n",
    "P_val = WS_data[\"P_val\"]\n",
    "U_val = WS_data[\"U_val\"]\n",
    "V_val = WS_data[\"V_val\"]\n",
    "X_val = WS_data[\"X_val\"]\n",
    "Y_val = WS_data[\"Y_val\"]\n",
    "Z_val = WS_data[\"Z_val\"]\n",
    "\n",
    "L = WS_data[\"L\"]\n",
    "W = WS_data[\"W\"]\n",
    "P0 = WS_data[\"P0\"]\n",
    "Re = WS_data[\"Re\"]"
   ]
  },
  {
   "cell_type": "code",
   "execution_count": 13,
   "id": "c2223fa1",
   "metadata": {},
   "outputs": [
    {
     "data": {
      "text/plain": [
       "(160, 2016)"
      ]
     },
     "execution_count": 13,
     "metadata": {},
     "output_type": "execute_result"
    }
   ],
   "source": [
    "X_PINN.shape"
   ]
  },
  {
   "cell_type": "markdown",
   "id": "d658a559",
   "metadata": {},
   "source": [
    "# train, test, split"
   ]
  }
 ],
 "metadata": {
  "kernelspec": {
   "display_name": "venv",
   "language": "python",
   "name": "python3"
  },
  "language_info": {
   "codemirror_mode": {
    "name": "ipython",
    "version": 3
   },
   "file_extension": ".py",
   "mimetype": "text/x-python",
   "name": "python",
   "nbconvert_exporter": "python",
   "pygments_lexer": "ipython3",
   "version": "3.12.3"
  }
 },
 "nbformat": 4,
 "nbformat_minor": 5
}
