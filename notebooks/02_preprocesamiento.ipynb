{
 "cells": [
  {
   "cell_type": "code",
   "execution_count": 1,
   "id": "3c2ae0bd",
   "metadata": {},
   "outputs": [],
   "source": [
    "# Standard library\n",
    "import datetime as dt\n",
    "from pathlib import Path\n",
    "\n",
    "# Third-party\n",
    "import numpy as np\n",
    "import pandas as pd\n",
    "import requests\n",
    "import scipy.io as sio"
   ]
  },
  {
   "cell_type": "markdown",
   "id": "e9e7536f",
   "metadata": {},
   "source": [
    "# Rutas"
   ]
  },
  {
   "cell_type": "code",
   "execution_count": 31,
   "id": "41805cda",
   "metadata": {},
   "outputs": [],
   "source": [
    "BASE_DIR = Path().resolve().parents[0]\n",
    "DATA_RAW_DIR = BASE_DIR / \"data\" / \"raw\"\n",
    "DATA_PROC_DIR = BASE_DIR / \"data\" / \"processed\""
   ]
  },
  {
   "cell_type": "markdown",
   "id": "fbf56366",
   "metadata": {},
   "source": [
    "# Carga de datos"
   ]
  },
  {
   "cell_type": "code",
   "execution_count": 3,
   "id": "762861a5",
   "metadata": {},
   "outputs": [],
   "source": [
    "url = \"https://zenodo.org/records/10723261/files/Weather_data.mat\"\n",
    "path_data = DATA_RAW_DIR / \"weather_data.mat\""
   ]
  },
  {
   "cell_type": "code",
   "execution_count": 4,
   "id": "728e41a3",
   "metadata": {},
   "outputs": [
    {
     "name": "stdout",
     "output_type": "stream",
     "text": [
      "Se carga el archivo .mat\n"
     ]
    }
   ],
   "source": [
    "if path_data.is_file():\n",
    "    WS_data = sio.loadmat(path_data)\n",
    "    print(\"Se carga el archivo .mat\")\n",
    "\n",
    "else:   \n",
    "    response = requests.get(url)\n",
    "    # Verificar que la descarga fue exitosa\n",
    "    if response.status_code == 200:\n",
    "        with open(path_data, \"wb\") as f:\n",
    "            f.write(response.content)\n",
    "        print(f\"Archivo guardado como: {path_data}\")\n",
    "        WS_data = sio.loadmat(path_data)\n",
    "        print(\"Se carga el archivo .mat\")\n",
    "    else:\n",
    "        print(f\"Error al descargar: {response.status_code}\")"
   ]
  },
  {
   "cell_type": "markdown",
   "id": "686e0669",
   "metadata": {},
   "source": [
    "# Pre procesamiento"
   ]
  },
  {
   "cell_type": "code",
   "execution_count": 5,
   "id": "e7c9a5ff",
   "metadata": {},
   "outputs": [
    {
     "name": "stdout",
     "output_type": "stream",
     "text": [
      "Double-check for NaN in time sequence 0\n"
     ]
    }
   ],
   "source": [
    "# Convert date to continuous time: from date and time format to seconds\n",
    "date_0 = WS_data['Date'][0]\n",
    "date = []\n",
    "for i in range(0, len(date_0)):\n",
    "    date = np.append(date, str(date_0[i])[2 : -2])\n",
    "time_init = dt.datetime(int(date[0][0 : 4]), int(date[0][5 : 7]), int(date[0][8 : 10]), int(date[0][11 : 13]), int(date[0][14 : 16]))\n",
    "T_nan_index = np.argwhere(pd.isna(date))\n",
    "date = np.delete(date, T_nan_index[:, 0],  0)\n",
    "print('Double-check for NaN in time sequence', np.sum(pd.isna(date)))\n",
    "\n",
    "Seconds = np.zeros((date.shape[0], 1))\n",
    "for index in range(date.shape[0]):\n",
    "    Seconds[index, 0] = ((dt.datetime(int(date[index][0 : 4]), int(date[index][5 : 7]), int(date[index][8 : 10]), int(date[index][11 : 13]), int(date[index][14 : 16])) - time_init).total_seconds())\n",
    "T_WS = Seconds"
   ]
  },
  {
   "cell_type": "code",
   "execution_count": 6,
   "id": "dd098b37",
   "metadata": {},
   "outputs": [],
   "source": [
    "# Convert to Cartesian coordinates\n",
    "X_WS = np.array(6378000 * np.sin(np.radians(WS_data['Lon'])))[0]  # Longitude to meters\n",
    "Y_WS = np.array(6378000 * np.sin(np.radians(WS_data['Lat'])))[0]  # Latitude to meters\n",
    "Z_WS = np.array(WS_data['Alt'])[0]\n",
    "Temp_WS = np.array(WS_data['Temperature'])[0]"
   ]
  },
  {
   "cell_type": "code",
   "execution_count": 7,
   "id": "dea99dca",
   "metadata": {},
   "outputs": [],
   "source": [
    "# Project wind speed and direction into Cartesian coordinates\n",
    "U_WS = (WS_data['WindSpeed'] * WS_data['WindDirectionX'])[0]\n",
    "V_WS = (WS_data['WindSpeed'] * WS_data['WindDirectionY'])[0]"
   ]
  },
  {
   "cell_type": "code",
   "execution_count": 8,
   "id": "1dc0fa9b",
   "metadata": {},
   "outputs": [],
   "source": [
    "# Pressure from mbar to Pa\n",
    "P_WS = WS_data['Pressure'][0] * 100"
   ]
  },
  {
   "cell_type": "code",
   "execution_count": 9,
   "id": "a31e94ce",
   "metadata": {},
   "outputs": [],
   "source": [
    "# Remove NaN values from time field\n",
    "X_WS = np.delete(X_WS, T_nan_index[:, 0],  0)\n",
    "Y_WS = np.delete(Y_WS, T_nan_index[:, 0],  0)\n",
    "Z_WS = np.delete(Z_WS, T_nan_index[:, 0],  0)\n",
    "U_WS = np.delete(U_WS, T_nan_index[:, 0],  0)\n",
    "V_WS = np.delete(V_WS, T_nan_index[:, 0],  0)\n",
    "P_WS = np.delete(P_WS, T_nan_index[:, 0],  0)\n",
    "Temp_WS = np.delete(Temp_WS, T_nan_index[:, 0],  0)"
   ]
  },
  {
   "cell_type": "code",
   "execution_count": 10,
   "id": "248533f5",
   "metadata": {},
   "outputs": [
    {
     "name": "stdout",
     "output_type": "stream",
     "text": [
      "Number of weather stations: 21\n"
     ]
    }
   ],
   "source": [
    "# Structure data into matrix: 21 available stations (rows) x measurement every 10 min (column)\n",
    "T_WS = np.reshape(T_WS, (int(T_WS.shape[0] / 21), 21)).T # There are 21 WS stations in this case\n",
    "X_WS = np.reshape(X_WS, (T_WS.shape[1], T_WS.shape[0])).T\n",
    "Y_WS = np.reshape(Y_WS, (T_WS.shape[1], T_WS.shape[0])).T\n",
    "Z_WS = np.reshape(Z_WS, (T_WS.shape[1], T_WS.shape[0])).T\n",
    "U_WS = np.reshape(U_WS, (T_WS.shape[1], T_WS.shape[0])).T\n",
    "V_WS = np.reshape(V_WS, (T_WS.shape[1], T_WS.shape[0])).T\n",
    "P_WS = np.reshape(P_WS, (T_WS.shape[1], T_WS.shape[0])).T\n",
    "Temp_WS = np.reshape(Temp_WS, (T_WS.shape[1], T_WS.shape[0])).T\n",
    "print('Number of weather stations:', T_WS.shape[0])"
   ]
  },
  {
   "cell_type": "code",
   "execution_count": 11,
   "id": "f4dd07ad",
   "metadata": {},
   "outputs": [
    {
     "name": "stdout",
     "output_type": "stream",
     "text": [
      "Double-check for NaN in location field 0\n"
     ]
    }
   ],
   "source": [
    "# Remove NaN from location data\n",
    "X_nan_index = np.argwhere(np.isnan(X_WS))\n",
    "T_WS = np.delete(T_WS, X_nan_index[:, 0],  0)\n",
    "P_WS = np.delete(P_WS, X_nan_index[:, 0],  0)\n",
    "U_WS = np.delete(U_WS, X_nan_index[:, 0],  0)\n",
    "V_WS = np.delete(V_WS, X_nan_index[:, 0],  0)\n",
    "X_WS = np.delete(X_WS, X_nan_index[:, 0],  0)\n",
    "Y_WS = np.delete(Y_WS, X_nan_index[:, 0],  0)\n",
    "Z_WS = np.delete(Z_WS, X_nan_index[:, 0],  0)\n",
    "Temp_WS = np.delete(Temp_WS, X_nan_index[:, 0],  0)\n",
    "print('Double-check for NaN in location field', np.sum(np.isnan(X_WS)))"
   ]
  },
  {
   "cell_type": "code",
   "execution_count": 12,
   "id": "0254abf5",
   "metadata": {},
   "outputs": [],
   "source": [
    "# Days selected for reconstruction\n",
    "n_days = 14 # Change up to a maximum of 14 availsble days\n",
    "samples =  int(144 * n_days) # Convert selected days to snapshots\n",
    "T_WS = T_WS[:, : samples] \n",
    "X_WS = X_WS[:, : samples]\n",
    "Y_WS = Y_WS[:, : samples]\n",
    "Z_WS = Z_WS[:, : samples]\n",
    "U_WS = U_WS[:, : samples]\n",
    "V_WS = V_WS[:, : samples]\n",
    "P_WS = P_WS[:, : samples]\n",
    "Temp_WS = Temp_WS[:, : samples]"
   ]
  },
  {
   "cell_type": "code",
   "execution_count": 13,
   "id": "ec1f9ac9",
   "metadata": {},
   "outputs": [],
   "source": [
    "# Sort values in matrix into increasing values of X coordinate\n",
    "for snap in range(0, T_WS.shape[1]):\n",
    "    index_sort = np.argsort(X_WS[:, snap])\n",
    "    T_WS[:, snap] = T_WS[index_sort, snap]\n",
    "    X_WS[:, snap] = X_WS[index_sort, snap]\n",
    "    Y_WS[:, snap] = Y_WS[index_sort, snap]\n",
    "    Z_WS[:, snap] = Z_WS[index_sort, snap]\n",
    "    U_WS[:, snap] = U_WS[index_sort, snap]\n",
    "    V_WS[:, snap] = V_WS[index_sort, snap]\n",
    "    P_WS[:, snap] = P_WS[index_sort, snap]\n",
    "    Temp_WS[:, snap] = Temp_WS[index_sort, snap]"
   ]
  },
  {
   "cell_type": "code",
   "execution_count": 14,
   "id": "946acf01",
   "metadata": {},
   "outputs": [],
   "source": [
    "# Delete NaN from U, V and P if constantly occuring for each weather station\n",
    "uvp_mean = np.nanmean(np.concatenate([U_WS, V_WS, P_WS], axis = 1), axis = 1)[:, None]\n",
    "vel_nan_index = np.argwhere(np.isnan(uvp_mean))\n",
    "T_WS = np.delete(T_WS, vel_nan_index[:, 0],  0)\n",
    "P_WS = np.delete(P_WS, vel_nan_index[:, 0],  0)\n",
    "U_WS = np.delete(U_WS, vel_nan_index[:, 0],  0)\n",
    "V_WS = np.delete(V_WS, vel_nan_index[:, 0],  0)\n",
    "X_WS = np.delete(X_WS, vel_nan_index[:, 0],  0)\n",
    "Y_WS = np.delete(Y_WS, vel_nan_index[:, 0],  0)\n",
    "Z_WS = np.delete(Z_WS, vel_nan_index[:, 0],  0)\n",
    "Temp_WS = np.delete(Temp_WS, vel_nan_index[:, 0],  0)"
   ]
  },
  {
   "cell_type": "code",
   "execution_count": 15,
   "id": "88b2f2e5",
   "metadata": {},
   "outputs": [],
   "source": [
    "# Correct pressure to sea level (ISA)\n",
    "P_WS = P_WS * (1 - 0.0065 * Z_WS / (Temp_WS + 273.15 + 0.0065 * Z_WS))**(-5.257)"
   ]
  },
  {
   "cell_type": "code",
   "execution_count": 16,
   "id": "c6233b56",
   "metadata": {},
   "outputs": [],
   "source": [
    "# Certering of location and time fields\n",
    "x_min = np.min(X_WS)\n",
    "x_max = np.max(X_WS)\n",
    "X_WS = X_WS - (x_min + x_max) / 2\n",
    "y_min = np.min(Y_WS)\n",
    "y_max = np.max(Y_WS)\n",
    "Y_WS = Y_WS - (y_min + y_max) / 2\n",
    "t_min = np.min(T_WS)\n",
    "t_max = np.max(T_WS)\n",
    "T_WS = T_WS - t_min # Refer to t = 0"
   ]
  },
  {
   "cell_type": "code",
   "execution_count": 17,
   "id": "ee2be9c4",
   "metadata": {},
   "outputs": [],
   "source": [
    "# PINN output grid\n",
    "T_PINN = T_WS[0 : 1, :] # Same times for reconstruction"
   ]
  },
  {
   "cell_type": "code",
   "execution_count": 18,
   "id": "d95b4b89",
   "metadata": {},
   "outputs": [],
   "source": [
    "# Resolution in degrees\n",
    "R = 0.2\n",
    "R_PINN = 6378000 * np.sin(np.radians(R)) # Grid resolution\n",
    "x_PINN = np.arange(x_min - R_PINN, x_max + R_PINN, R_PINN) # X values in output resolution\n",
    "y_PINN = np.arange(y_min - R_PINN, y_max + R_PINN, R_PINN) # Y values in output resolution"
   ]
  },
  {
   "cell_type": "code",
   "execution_count": 19,
   "id": "f9f2d379",
   "metadata": {},
   "outputs": [],
   "source": [
    "# Centering of location data\n",
    "x_PINN = x_PINN - (x_min + x_max) / 2\n",
    "y_PINN = y_PINN - (y_min + y_max) / 2"
   ]
  },
  {
   "cell_type": "code",
   "execution_count": 20,
   "id": "1b8527ae",
   "metadata": {},
   "outputs": [],
   "source": [
    "# Final output grid\n",
    "X_PINN, Y_PINN = np.meshgrid(x_PINN, y_PINN)\n",
    "X_PINN = X_PINN.flatten('F')[:, None]\n",
    "Y_PINN = Y_PINN.flatten('F')[:, None]"
   ]
  },
  {
   "cell_type": "code",
   "execution_count": 21,
   "id": "ca485f54",
   "metadata": {},
   "outputs": [],
   "source": [
    "# Dimensions\n",
    "dim_T_PINN = T_PINN.shape[1]\n",
    "dim_N_PINN = X_PINN.shape[0]\n",
    "\n",
    "T_PINN = np.tile(T_PINN, (dim_N_PINN, 1))\n",
    "X_PINN = np.tile(X_PINN, dim_T_PINN)\n",
    "Y_PINN = np.tile(Y_PINN, dim_T_PINN)"
   ]
  },
  {
   "cell_type": "code",
   "execution_count": 22,
   "id": "895a00d7",
   "metadata": {},
   "outputs": [
    {
     "name": "stdout",
     "output_type": "stream",
     "text": [
      "L: 409791.6159110926 W 16.718180196652117 P0 100359.48707895375 Re 495728659759\n"
     ]
    }
   ],
   "source": [
    "# Reference values for non-dimensionalization\n",
    "L = np.sqrt((x_max - x_min) ** 2 + (y_max - y_min) ** 2) # Reference distance\n",
    "W = np.sqrt(np.nanmax(abs(U_WS)) ** 2 + np.nanmax(abs(V_WS)) ** 2) # Reference velocity\n",
    "rho = 1.269 # Air density at 15 degrees\n",
    "nu = 1.382e-5 # Kinematic viscosity at 15 degrees\n",
    "Re = int(W * L / nu) # Reynolds number\n",
    "P0 = np.nanmean(P_WS) # Reference pressure level\n",
    "print('L:', L, 'W', W, 'P0', P0, 'Re', Re)"
   ]
  },
  {
   "cell_type": "code",
   "execution_count": 23,
   "id": "bce88c3c",
   "metadata": {},
   "outputs": [],
   "source": [
    "# Non-dimensionalization\n",
    "X_WS = X_WS / L\n",
    "Y_WS = Y_WS / L\n",
    "T_WS = T_WS * W / L\n",
    "P_WS = (P_WS - P0) / rho / (W ** 2)\n",
    "U_WS = U_WS / W\n",
    "V_WS = V_WS / W\n",
    "\n",
    "X_PINN = X_PINN / L\n",
    "Y_PINN = Y_PINN / L\n",
    "T_PINN = T_PINN * W / L"
   ]
  },
  {
   "cell_type": "code",
   "execution_count": 24,
   "id": "cc20b215",
   "metadata": {},
   "outputs": [],
   "source": [
    "# Validation cases (remove stations)\n",
    "# # N_test = 0 # Number of stations to remove\n",
    "WS_val = np.array([1, 2, 3, 5, 7, 9, 10, 11, 13, 14, 15, 16, 19])\n",
    "# Choose between different arrays for desired validation case:\n",
    "# Close: np.array([2, 8, 10, 14, 16, 19])\n",
    "# Far: np.array([0, 1, 4, 6, 8, 12, 17, 18, 19, 20]) \n",
    "# Envelope: np.array([1, 2, 3, 5, 7, 9, 10, 11, 13, 14, 15, 16, 19])"
   ]
  },
  {
   "cell_type": "code",
   "execution_count": 25,
   "id": "31d350b3",
   "metadata": {},
   "outputs": [],
   "source": [
    "# Remove WS for validation\n",
    "T_val = T_WS[WS_val, :]\n",
    "P_val = P_WS[WS_val, :]\n",
    "U_val = U_WS[WS_val, :]\n",
    "V_val = V_WS[WS_val, :]\n",
    "X_val = X_WS[WS_val, :]\n",
    "Y_val = Y_WS[WS_val, :]\n",
    "Z_val = Z_WS[WS_val, :]"
   ]
  },
  {
   "cell_type": "code",
   "execution_count": 26,
   "id": "b1800294",
   "metadata": {},
   "outputs": [
    {
     "name": "stdout",
     "output_type": "stream",
     "text": [
      "Number of final weather stations available for training: 8\n"
     ]
    }
   ],
   "source": [
    "# Remaining Ws for training\n",
    "T_WS = np.delete(T_WS, WS_val, 0)\n",
    "P_WS = np.delete(P_WS, WS_val, 0)\n",
    "U_WS = np.delete(U_WS, WS_val, 0)\n",
    "V_WS = np.delete(V_WS, WS_val, 0)\n",
    "X_WS = np.delete(X_WS, WS_val, 0)\n",
    "Y_WS = np.delete(Y_WS, WS_val, 0)\n",
    "print('Number of final weather stations available for training:', T_WS.shape[0])"
   ]
  },
  {
   "cell_type": "code",
   "execution_count": 27,
   "id": "87e5c060",
   "metadata": {},
   "outputs": [],
   "source": [
    "# Dimensions\n",
    "dim_N_WS = X_WS.shape[0]\n",
    "dim_T_WS = X_WS.shape[1]"
   ]
  },
  {
   "cell_type": "code",
   "execution_count": 29,
   "id": "76934499",
   "metadata": {},
   "outputs": [],
   "source": [
    "del WS_data"
   ]
  },
  {
   "cell_type": "code",
   "execution_count": 32,
   "id": "ecd0f29b",
   "metadata": {},
   "outputs": [],
   "source": [
    "sio.savemat(DATA_PROC_DIR / \"weather_data_processed.mat\",\n",
    "            {\n",
    "                'X_PINN' : X_PINN,\n",
    "                'Y_PINN' : Y_PINN,\n",
    "                'T_PINN' : T_PINN,\n",
    "                'T_WS' : T_WS,\n",
    "                'P_WS' : P_WS,\n",
    "                'U_WS' : U_WS,\n",
    "                'V_WS' : V_WS,\n",
    "                'X_WS' : X_WS,\n",
    "                'Y_WS' : Y_WS,\n",
    "                'WS_val' : WS_val,\n",
    "                'T_val' : T_val,\n",
    "                'P_val' : P_val,\n",
    "                'U_val' : U_val,\n",
    "                'V_val' : V_val,\n",
    "                'X_val' : X_val,\n",
    "                'Y_val' : Y_val,\n",
    "                'Z_val' : Z_val,\n",
    "                'L' : L,\n",
    "                'W' : W,\n",
    "                'P0' : P0,\n",
    "                'Re' : Re,\n",
    "                }\n",
    "            )"
   ]
  }
 ],
 "metadata": {
  "kernelspec": {
   "display_name": "venv",
   "language": "python",
   "name": "python3"
  },
  "language_info": {
   "codemirror_mode": {
    "name": "ipython",
    "version": 3
   },
   "file_extension": ".py",
   "mimetype": "text/x-python",
   "name": "python",
   "nbconvert_exporter": "python",
   "pygments_lexer": "ipython3",
   "version": "3.12.3"
  }
 },
 "nbformat": 4,
 "nbformat_minor": 5
}
